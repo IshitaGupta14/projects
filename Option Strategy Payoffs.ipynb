{
 "cells": [
  {
   "cell_type": "markdown",
   "metadata": {},
   "source": [
    "# <span style=\"font-size:huge;\"> Option Strategy Payoffs </span>\n",
    "\n",
    "In this document, we will look at the various option strategy payoff graphs. The user is alllowed to input the option premiums, strike prices and the lot sizes as per any strategy they choose.   \n",
    "\n",
    "### Group 2:\n",
    "\n",
    "2019DMF05 - Ishita Gupta \\\n",
    "2019DMF06 - Kishan R \\\n",
    "2019DMF08 - Praveena P \\\n",
    "2019DMF09 - Roopchand Parise "
   ]
  },
  {
   "cell_type": "markdown",
   "metadata": {},
   "source": [
    "# General Calculator"
   ]
  },
  {
   "cell_type": "code",
   "execution_count": 195,
   "metadata": {},
   "outputs": [],
   "source": [
    "# Importing the necessary libraries\n",
    "\n",
    "import numpy as np\n",
    "import matplotlib.pyplot as plt\n"
   ]
  },
  {
   "cell_type": "code",
   "execution_count": 236,
   "metadata": {},
   "outputs": [
    {
     "name": "stdin",
     "output_type": "stream",
     "text": [
      "Enter current stock price  212\n"
     ]
    },
    {
     "name": "stdout",
     "output_type": "stream",
     "text": [
      "212.0\n"
     ]
    }
   ],
   "source": [
    "# Input for underlying asset price\n",
    "\n",
    "s3 = float(input(\"Enter current stock price \")) \n",
    "print(s3) "
   ]
  },
  {
   "cell_type": "code",
   "execution_count": 237,
   "metadata": {},
   "outputs": [
    {
     "data": {
      "text/plain": [
       "array([169.6, 170.6, 171.6, 172.6, 173.6, 174.6, 175.6, 176.6, 177.6,\n",
       "       178.6, 179.6, 180.6, 181.6, 182.6, 183.6, 184.6, 185.6, 186.6,\n",
       "       187.6, 188.6, 189.6, 190.6, 191.6, 192.6, 193.6, 194.6, 195.6,\n",
       "       196.6, 197.6, 198.6, 199.6, 200.6, 201.6, 202.6, 203.6, 204.6,\n",
       "       205.6, 206.6, 207.6, 208.6, 209.6, 210.6, 211.6, 212.6, 213.6,\n",
       "       214.6, 215.6, 216.6, 217.6, 218.6, 219.6, 220.6, 221.6, 222.6,\n",
       "       223.6, 224.6, 225.6, 226.6, 227.6, 228.6, 229.6, 230.6, 231.6,\n",
       "       232.6, 233.6, 234.6, 235.6, 236.6, 237.6, 238.6, 239.6, 240.6,\n",
       "       241.6, 242.6, 243.6, 244.6, 245.6, 246.6, 247.6, 248.6, 249.6,\n",
       "       250.6, 251.6, 252.6, 253.6, 254.6, 255.6])"
      ]
     },
     "execution_count": 237,
     "metadata": {},
     "output_type": "execute_result"
    }
   ],
   "source": [
    "# Creating an array of possible stock prices on maturity, considering a 20% volatality on the upside and downside. \n",
    "# The step at every ST = Rs.1. Eg. For a current stock price of Rs. 100, we have considered the following STs: 80,81,82,...120.\n",
    "\n",
    "ST4 = np.arange(0.8*s3,1.21*s3,1)  \n",
    "ST4"
   ]
  },
  {
   "cell_type": "code",
   "execution_count": 238,
   "metadata": {},
   "outputs": [],
   "source": [
    "# USE a minus (-) sign to indicate options with a long position and a plus (+) sign for options with a short position while filling in the option premiums."
   ]
  },
  {
   "cell_type": "code",
   "execution_count": 240,
   "metadata": {},
   "outputs": [
    {
     "name": "stdin",
     "output_type": "stream",
     "text": [
      "Enter call option premium 1:  7.63\n"
     ]
    },
    {
     "name": "stdout",
     "output_type": "stream",
     "text": [
      "7.63\n"
     ]
    },
    {
     "name": "stdin",
     "output_type": "stream",
     "text": [
      "Enter strike price for call option 1:  215\n"
     ]
    },
    {
     "name": "stdout",
     "output_type": "stream",
     "text": [
      "215.0\n"
     ]
    },
    {
     "name": "stdin",
     "output_type": "stream",
     "text": [
      "Enter lot size for call option 1:  1\n"
     ]
    },
    {
     "name": "stdout",
     "output_type": "stream",
     "text": [
      "1.0\n"
     ]
    }
   ],
   "source": [
    "# Inputs for first call option \n",
    "\n",
    "cp11 = float(input(\"Enter call option premium 1: \"))\n",
    "print(cp11)\n",
    "k11 = float(input(\"Enter strike price for call option 1: \"))\n",
    "print(k11) \n",
    "qt11 = float(input(\"Enter lot size for call option 1: \")) \n",
    "print(qt11)"
   ]
  },
  {
   "cell_type": "code",
   "execution_count": 241,
   "metadata": {},
   "outputs": [],
   "source": [
    "# Payoffs from first call option\n",
    "\n",
    "if cp11 > 0:\n",
    "    p11 =  np.where(ST4 > k11,((k11-ST4) + cp11) * qt11, cp11 * qt11) # Payoffs from short call option \n",
    "elif cp11 < 0:\n",
    "    p11 = np.where(ST4 > k11,((ST4-k11) + cp11) * qt11, cp11 * qt11) # Payoffs from long call option\n",
    "else:\n",
    "        p11 = 0"
   ]
  },
  {
   "cell_type": "code",
   "execution_count": 242,
   "metadata": {},
   "outputs": [
    {
     "data": {
      "text/plain": [
       "array([ 7.630e+00,  7.630e+00,  7.630e+00,  7.630e+00,  7.630e+00,\n",
       "        7.630e+00,  7.630e+00,  7.630e+00,  7.630e+00,  7.630e+00,\n",
       "        7.630e+00,  7.630e+00,  7.630e+00,  7.630e+00,  7.630e+00,\n",
       "        7.630e+00,  7.630e+00,  7.630e+00,  7.630e+00,  7.630e+00,\n",
       "        7.630e+00,  7.630e+00,  7.630e+00,  7.630e+00,  7.630e+00,\n",
       "        7.630e+00,  7.630e+00,  7.630e+00,  7.630e+00,  7.630e+00,\n",
       "        7.630e+00,  7.630e+00,  7.630e+00,  7.630e+00,  7.630e+00,\n",
       "        7.630e+00,  7.630e+00,  7.630e+00,  7.630e+00,  7.630e+00,\n",
       "        7.630e+00,  7.630e+00,  7.630e+00,  7.630e+00,  7.630e+00,\n",
       "        7.630e+00,  7.030e+00,  6.030e+00,  5.030e+00,  4.030e+00,\n",
       "        3.030e+00,  2.030e+00,  1.030e+00,  3.000e-02, -9.700e-01,\n",
       "       -1.970e+00, -2.970e+00, -3.970e+00, -4.970e+00, -5.970e+00,\n",
       "       -6.970e+00, -7.970e+00, -8.970e+00, -9.970e+00, -1.097e+01,\n",
       "       -1.197e+01, -1.297e+01, -1.397e+01, -1.497e+01, -1.597e+01,\n",
       "       -1.697e+01, -1.797e+01, -1.897e+01, -1.997e+01, -2.097e+01,\n",
       "       -2.197e+01, -2.297e+01, -2.397e+01, -2.497e+01, -2.597e+01,\n",
       "       -2.697e+01, -2.797e+01, -2.897e+01, -2.997e+01, -3.097e+01,\n",
       "       -3.197e+01, -3.297e+01])"
      ]
     },
     "execution_count": 242,
     "metadata": {},
     "output_type": "execute_result"
    }
   ],
   "source": [
    "p11"
   ]
  },
  {
   "cell_type": "code",
   "execution_count": 243,
   "metadata": {},
   "outputs": [
    {
     "name": "stdin",
     "output_type": "stream",
     "text": [
      "Enter put option premium 1:  7.2\n"
     ]
    },
    {
     "name": "stdout",
     "output_type": "stream",
     "text": [
      "7.2\n"
     ]
    },
    {
     "name": "stdin",
     "output_type": "stream",
     "text": [
      "Enter strike price for put option 1:  210\n"
     ]
    },
    {
     "name": "stdout",
     "output_type": "stream",
     "text": [
      "210.0\n"
     ]
    },
    {
     "name": "stdin",
     "output_type": "stream",
     "text": [
      "Enter lot size for put option 1:  1\n"
     ]
    },
    {
     "name": "stdout",
     "output_type": "stream",
     "text": [
      "1.0\n"
     ]
    }
   ],
   "source": [
    "# Inputs for first put option\n",
    "\n",
    "pp12 = float(input(\"Enter put option premium 1: \"))\n",
    "print(pp12)\n",
    "kp12 = float(input(\"Enter strike price for put option 1: \"))\n",
    "print(kp12) \n",
    "qp12 = float(input(\"Enter lot size for put option 1: \")) \n",
    "print(qp12)"
   ]
  },
  {
   "cell_type": "code",
   "execution_count": 244,
   "metadata": {},
   "outputs": [],
   "source": [
    "# Payoffs from first put option\n",
    "if pp12 < 0:\n",
    "     p12 = np.where(ST4 < kp12,((kp12 - ST4) + pp12) * qp12, pp12 * qp12)\n",
    "elif pp12 > 0: \n",
    "     p12 = np.where(ST4 < kp12,((ST4-kp12) + pp12) * qp12, pp12 * qp12)\n",
    "else:\n",
    "        p12 =0"
   ]
  },
  {
   "cell_type": "code",
   "execution_count": 245,
   "metadata": {},
   "outputs": [
    {
     "data": {
      "text/plain": [
       "array([-33.2, -32.2, -31.2, -30.2, -29.2, -28.2, -27.2, -26.2, -25.2,\n",
       "       -24.2, -23.2, -22.2, -21.2, -20.2, -19.2, -18.2, -17.2, -16.2,\n",
       "       -15.2, -14.2, -13.2, -12.2, -11.2, -10.2,  -9.2,  -8.2,  -7.2,\n",
       "        -6.2,  -5.2,  -4.2,  -3.2,  -2.2,  -1.2,  -0.2,   0.8,   1.8,\n",
       "         2.8,   3.8,   4.8,   5.8,   6.8,   7.2,   7.2,   7.2,   7.2,\n",
       "         7.2,   7.2,   7.2,   7.2,   7.2,   7.2,   7.2,   7.2,   7.2,\n",
       "         7.2,   7.2,   7.2,   7.2,   7.2,   7.2,   7.2,   7.2,   7.2,\n",
       "         7.2,   7.2,   7.2,   7.2,   7.2,   7.2,   7.2,   7.2,   7.2,\n",
       "         7.2,   7.2,   7.2,   7.2,   7.2,   7.2,   7.2,   7.2,   7.2,\n",
       "         7.2,   7.2,   7.2,   7.2,   7.2,   7.2])"
      ]
     },
     "execution_count": 245,
     "metadata": {},
     "output_type": "execute_result"
    }
   ],
   "source": [
    "p12"
   ]
  },
  {
   "cell_type": "code",
   "execution_count": 246,
   "metadata": {},
   "outputs": [
    {
     "name": "stdin",
     "output_type": "stream",
     "text": [
      "Enter call option premium 2:  -5.35\n"
     ]
    },
    {
     "name": "stdout",
     "output_type": "stream",
     "text": [
      "-5.35\n"
     ]
    },
    {
     "name": "stdin",
     "output_type": "stream",
     "text": [
      "Enter strike price for call option 2:  220\n"
     ]
    },
    {
     "name": "stdout",
     "output_type": "stream",
     "text": [
      "220.0\n"
     ]
    },
    {
     "name": "stdin",
     "output_type": "stream",
     "text": [
      "Enter lot size for call option 2:  1\n"
     ]
    },
    {
     "name": "stdout",
     "output_type": "stream",
     "text": [
      "1.0\n"
     ]
    }
   ],
   "source": [
    "# Inputs for second call option \n",
    "\n",
    "cp12 = float(input(\"Enter call option premium 2: \"))\n",
    "print(cp12)\n",
    "k12 = float(input(\"Enter strike price for call option 2: \"))\n",
    "print(k12) \n",
    "qt12 = float(input(\"Enter lot size for call option 2: \")) \n",
    "print(qt12)"
   ]
  },
  {
   "cell_type": "code",
   "execution_count": 247,
   "metadata": {},
   "outputs": [],
   "source": [
    "# Payoffs from second call option\n",
    "\n",
    "if cp12 > 0:\n",
    "    pc12 =  np.where(ST4 > k12,((k12-ST4) + cp12) * qt12, cp12 * qt12) # Payoffs from short call option \n",
    "elif cp12 < 0:\n",
    "    pc12 = np.where(ST4 > k12,((ST4-k12) + cp12) * qt12, cp12 * qt12) # Payoffs from long call option\n",
    "else:\n",
    "        pc12 = 0"
   ]
  },
  {
   "cell_type": "code",
   "execution_count": 248,
   "metadata": {},
   "outputs": [
    {
     "data": {
      "text/plain": [
       "array([-5.35, -5.35, -5.35, -5.35, -5.35, -5.35, -5.35, -5.35, -5.35,\n",
       "       -5.35, -5.35, -5.35, -5.35, -5.35, -5.35, -5.35, -5.35, -5.35,\n",
       "       -5.35, -5.35, -5.35, -5.35, -5.35, -5.35, -5.35, -5.35, -5.35,\n",
       "       -5.35, -5.35, -5.35, -5.35, -5.35, -5.35, -5.35, -5.35, -5.35,\n",
       "       -5.35, -5.35, -5.35, -5.35, -5.35, -5.35, -5.35, -5.35, -5.35,\n",
       "       -5.35, -5.35, -5.35, -5.35, -5.35, -5.35, -4.75, -3.75, -2.75,\n",
       "       -1.75, -0.75,  0.25,  1.25,  2.25,  3.25,  4.25,  5.25,  6.25,\n",
       "        7.25,  8.25,  9.25, 10.25, 11.25, 12.25, 13.25, 14.25, 15.25,\n",
       "       16.25, 17.25, 18.25, 19.25, 20.25, 21.25, 22.25, 23.25, 24.25,\n",
       "       25.25, 26.25, 27.25, 28.25, 29.25, 30.25])"
      ]
     },
     "execution_count": 248,
     "metadata": {},
     "output_type": "execute_result"
    }
   ],
   "source": [
    "pc12"
   ]
  },
  {
   "cell_type": "code",
   "execution_count": 249,
   "metadata": {},
   "outputs": [
    {
     "name": "stdin",
     "output_type": "stream",
     "text": [
      "Enter put option premium 2:  -5.52\n"
     ]
    },
    {
     "name": "stdout",
     "output_type": "stream",
     "text": [
      "-5.52\n"
     ]
    },
    {
     "name": "stdin",
     "output_type": "stream",
     "text": [
      "Enter strike price for put option 2:  205\n"
     ]
    },
    {
     "name": "stdout",
     "output_type": "stream",
     "text": [
      "205.0\n"
     ]
    },
    {
     "name": "stdin",
     "output_type": "stream",
     "text": [
      "Enter lot size for put option 2:  1\n"
     ]
    },
    {
     "name": "stdout",
     "output_type": "stream",
     "text": [
      "1.0\n"
     ]
    }
   ],
   "source": [
    "# Inputs for second put option\n",
    "\n",
    "pp14 = float(input(\"Enter put option premium 2: \"))\n",
    "print(pp14)\n",
    "kp14 = float(input(\"Enter strike price for put option 2: \"))\n",
    "print(kp14) \n",
    "qp14 = float(input(\"Enter lot size for put option 2: \")) \n",
    "print(qp14)"
   ]
  },
  {
   "cell_type": "code",
   "execution_count": 250,
   "metadata": {},
   "outputs": [],
   "source": [
    "# Payoffs from second put option\n",
    "if pp14 < 0:\n",
    "     p14 = np.where(ST4 < kp14,((kp14 - ST4) + pp14) * qp14, pp14 * qp14)\n",
    "elif pp14 > 0: \n",
    "     p14 = np.where(ST4 < kp14,((ST4-kp14) + pp14) * qp14, pp14 * qp14)\n",
    "else:\n",
    "        p14 =0"
   ]
  },
  {
   "cell_type": "code",
   "execution_count": 251,
   "metadata": {},
   "outputs": [
    {
     "data": {
      "text/plain": [
       "array([29.88, 28.88, 27.88, 26.88, 25.88, 24.88, 23.88, 22.88, 21.88,\n",
       "       20.88, 19.88, 18.88, 17.88, 16.88, 15.88, 14.88, 13.88, 12.88,\n",
       "       11.88, 10.88,  9.88,  8.88,  7.88,  6.88,  5.88,  4.88,  3.88,\n",
       "        2.88,  1.88,  0.88, -0.12, -1.12, -2.12, -3.12, -4.12, -5.12,\n",
       "       -5.52, -5.52, -5.52, -5.52, -5.52, -5.52, -5.52, -5.52, -5.52,\n",
       "       -5.52, -5.52, -5.52, -5.52, -5.52, -5.52, -5.52, -5.52, -5.52,\n",
       "       -5.52, -5.52, -5.52, -5.52, -5.52, -5.52, -5.52, -5.52, -5.52,\n",
       "       -5.52, -5.52, -5.52, -5.52, -5.52, -5.52, -5.52, -5.52, -5.52,\n",
       "       -5.52, -5.52, -5.52, -5.52, -5.52, -5.52, -5.52, -5.52, -5.52,\n",
       "       -5.52, -5.52, -5.52, -5.52, -5.52, -5.52])"
      ]
     },
     "execution_count": 251,
     "metadata": {},
     "output_type": "execute_result"
    }
   ],
   "source": [
    "p14"
   ]
  },
  {
   "cell_type": "code",
   "execution_count": 252,
   "metadata": {},
   "outputs": [
    {
     "name": "stdin",
     "output_type": "stream",
     "text": [
      "Enter call option premium 3:  0\n"
     ]
    },
    {
     "name": "stdout",
     "output_type": "stream",
     "text": [
      "0.0\n"
     ]
    },
    {
     "name": "stdin",
     "output_type": "stream",
     "text": [
      "Enter strike price for call option 3:  0\n"
     ]
    },
    {
     "name": "stdout",
     "output_type": "stream",
     "text": [
      "0.0\n"
     ]
    },
    {
     "name": "stdin",
     "output_type": "stream",
     "text": [
      "Enter lot size for call option 3:  0\n"
     ]
    },
    {
     "name": "stdout",
     "output_type": "stream",
     "text": [
      "0.0\n"
     ]
    }
   ],
   "source": [
    "# Inputs for third call option \n",
    "\n",
    "cp13 = float(input(\"Enter call option premium 3: \"))\n",
    "print(cp13)\n",
    "k13 = float(input(\"Enter strike price for call option 3: \"))\n",
    "print(k13) \n",
    "qt13 = float(input(\"Enter lot size for call option 3: \")) \n",
    "print(qt13)"
   ]
  },
  {
   "cell_type": "code",
   "execution_count": 253,
   "metadata": {},
   "outputs": [],
   "source": [
    "# Payoffs from third call option\n",
    "\n",
    "if cp13 > 0:\n",
    "    pc13 =  np.where(ST4 > k13,((k13-ST4) + cp13) * qt13, cp13 * qt13) # Payoffs from short call option \n",
    "elif cp13 < 0:\n",
    "    pc13 = np.where(ST4 > k13,((ST4-k13) + cp13) * qt13, cp13 * qt13) # Payoffs from long call option\n",
    "else:\n",
    "        pc13 = 0"
   ]
  },
  {
   "cell_type": "code",
   "execution_count": 254,
   "metadata": {},
   "outputs": [
    {
     "data": {
      "text/plain": [
       "0"
      ]
     },
     "execution_count": 254,
     "metadata": {},
     "output_type": "execute_result"
    }
   ],
   "source": [
    "pc13"
   ]
  },
  {
   "cell_type": "code",
   "execution_count": 255,
   "metadata": {},
   "outputs": [
    {
     "name": "stdin",
     "output_type": "stream",
     "text": [
      "Enter put option premium 3:  0\n"
     ]
    },
    {
     "name": "stdout",
     "output_type": "stream",
     "text": [
      "0.0\n"
     ]
    },
    {
     "name": "stdin",
     "output_type": "stream",
     "text": [
      "Enter strike price for put option 3:  0\n"
     ]
    },
    {
     "name": "stdout",
     "output_type": "stream",
     "text": [
      "0.0\n"
     ]
    },
    {
     "name": "stdin",
     "output_type": "stream",
     "text": [
      "Enter lot size for put option 3:  0\n"
     ]
    },
    {
     "name": "stdout",
     "output_type": "stream",
     "text": [
      "0.0\n"
     ]
    }
   ],
   "source": [
    "# Inputs for third put option\n",
    "\n",
    "pp16 = float(input(\"Enter put option premium 3: \"))\n",
    "print(pp16)\n",
    "kp16 = float(input(\"Enter strike price for put option 3: \"))\n",
    "print(kp16) \n",
    "qp16 = float(input(\"Enter lot size for put option 3: \")) \n",
    "print(qp16)"
   ]
  },
  {
   "cell_type": "code",
   "execution_count": 256,
   "metadata": {},
   "outputs": [],
   "source": [
    "# Payoffs from third put option\n",
    "if pp16 < 0:\n",
    "     p15 = np.where(ST4 < kp16,((kp16 - ST4) + pp14) * qp16, pp16 * qp16)\n",
    "elif pp16 > 0: \n",
    "     p15 = np.where(ST4 < kp16,((ST4-kp16) + pp14) * qp16, pp16 * qp16)\n",
    "else:\n",
    "        p15 =0"
   ]
  },
  {
   "cell_type": "code",
   "execution_count": 257,
   "metadata": {},
   "outputs": [
    {
     "data": {
      "text/plain": [
       "0"
      ]
     },
     "execution_count": 257,
     "metadata": {},
     "output_type": "execute_result"
    }
   ],
   "source": [
    "p15"
   ]
  },
  {
   "cell_type": "code",
   "execution_count": 258,
   "metadata": {},
   "outputs": [],
   "source": [
    "# Total Payoff \n",
    "\n",
    "payoff = p11 + p12 + pc12 + p14 + pc13 + p15"
   ]
  },
  {
   "cell_type": "code",
   "execution_count": 259,
   "metadata": {},
   "outputs": [
    {
     "data": {
      "image/png": "[encoded data removed]",
      "text/plain": [
       "<Figure size 432x288 with 1 Axes>"
      ]
     },
     "metadata": {
      "needs_background": "light"
     },
     "output_type": "display_data"
    }
   ],
   "source": [
    "# Create a plot using matplotlib for General Calculator\n",
    "\n",
    "fig, ax = plt.subplots()\n",
    "ax.spines['top'].set_visible(False) # Top border removed \n",
    "ax.spines['right'].set_visible(False) # Right border removed\n",
    "ax.spines['bottom'].set_position('zero') # Sets the X-axis in the center\n",
    "ax.tick_params(top=True, right=True) # Removes the tick-marks on the RHS\n",
    "\n",
    "plt.plot(ST4,payoff,lw = 1.5)\n",
    "\n",
    "plt.xticks(np.arange(min(ST4), max(ST4)+1, 0.05*s3))\n",
    "plt.title('Payoffs') \n",
    "plt.xlabel('Stock Prices')\n",
    "plt.ylabel('Profit/loss')\n",
    "plt.grid(True)\n",
    "plt.axis('tight')\n",
    "plt.show()"
   ]
  },
  {
   "cell_type": "markdown",
   "metadata": {},
   "source": [
    "# Butterfly Strategy (Using Calls)\n",
    "\n",
    "The Butterfly Strategy involves 3 different call options with strike prices (K1,K2 and K3) such that (K1 < K2 < K3)\n",
    "\n",
    "* The investor goes long on the first call which has the lowest strike price (K1) and therefore the highest premium.\n",
    "* The investor goes short on twice the quantity of the first long call with a strike price of K2 which is relatively higher than K1 and has a lower premium than the first call option.\n",
    "* Finally, the investor goes long on the third call option which has the highest strike price (K3) and therefore, the lowest premium among the three.\n",
    "* The strike prices are chosen in such a way that K2 lies halfway between K1 and K3.\n",
    "* The setup cost for the strategy is c1 - 2c2 + c3.\n",
    "* This strategy is used when the investor expects the price to go up, but not very high. The price is expected to be range-bound and hence not very volatile."
   ]
  },
  {
   "cell_type": "code",
   "execution_count": null,
   "metadata": {},
   "outputs": [],
   "source": [
    "# Input for underlying asset price\n",
    "\n",
    "s0 = int(input(\"Enter current stock price \")) \n",
    "print(s0) "
   ]
  },
  {
   "cell_type": "code",
   "execution_count": 71,
   "metadata": {},
   "outputs": [
    {
     "data": {
      "text/plain": [
       "array([48. , 49.2, 50.4, 51.6, 52.8, 54. , 55.2, 56.4, 57.6, 58.8, 60. ,\n",
       "       61.2, 62.4, 63.6, 64.8, 66. , 67.2, 68.4, 69.6, 70.8, 72. ])"
      ]
     },
     "execution_count": 71,
     "metadata": {},
     "output_type": "execute_result"
    }
   ],
   "source": [
    "# Creating an array of possible stock prices on maturity, considering a 20% volatality\n",
    "\n",
    "ST = np.arange(0.8*s0,1.21*s0,1.2)  \n",
    "ST"
   ]
  },
  {
   "cell_type": "code",
   "execution_count": 72,
   "metadata": {},
   "outputs": [
    {
     "name": "stdin",
     "output_type": "stream",
     "text": [
      "Enter call option premium 1:  10\n"
     ]
    },
    {
     "name": "stdout",
     "output_type": "stream",
     "text": [
      "10\n"
     ]
    },
    {
     "name": "stdin",
     "output_type": "stream",
     "text": [
      "Enter strike price for call option 1:  55\n"
     ]
    },
    {
     "name": "stdout",
     "output_type": "stream",
     "text": [
      "55\n"
     ]
    },
    {
     "name": "stdin",
     "output_type": "stream",
     "text": [
      "Enter lot size for call option 1:  1\n"
     ]
    },
    {
     "name": "stdout",
     "output_type": "stream",
     "text": [
      "1\n"
     ]
    }
   ],
   "source": [
    "# Inputs for first call option (long)\n",
    "\n",
    "cp1 = int(input(\"Enter call option premium 1: \"))\n",
    "print(cp1)\n",
    "k1 = int(input(\"Enter strike price for call option 1: \"))\n",
    "print(k1) \n",
    "qt1 = int(input(\"Enter lot size for call option 1: \")) \n",
    "print(qt1)"
   ]
  },
  {
   "cell_type": "code",
   "execution_count": 73,
   "metadata": {},
   "outputs": [
    {
     "data": {
      "text/plain": [
       "array([-10. , -10. , -10. , -10. , -10. , -10. ,  -9.8,  -8.6,  -7.4,\n",
       "        -6.2,  -5. ,  -3.8,  -2.6,  -1.4,  -0.2,   1. ,   2.2,   3.4,\n",
       "         4.6,   5.8,   7. ])"
      ]
     },
     "execution_count": 73,
     "metadata": {},
     "output_type": "execute_result"
    }
   ],
   "source": [
    "# Payoffs from first call option\n",
    "p1 = np.where(ST > k1,((ST-k1) - cp1) * qt1, -cp1 * qt1) # Payoffs from call option 1\n",
    "p1"
   ]
  },
  {
   "cell_type": "code",
   "execution_count": 74,
   "metadata": {},
   "outputs": [
    {
     "name": "stdin",
     "output_type": "stream",
     "text": [
      "Enter call option premium 2:  7\n"
     ]
    },
    {
     "name": "stdout",
     "output_type": "stream",
     "text": [
      "7\n"
     ]
    },
    {
     "name": "stdin",
     "output_type": "stream",
     "text": [
      "Enter strike price for call option 2:  60\n"
     ]
    },
    {
     "name": "stdout",
     "output_type": "stream",
     "text": [
      "60\n"
     ]
    },
    {
     "name": "stdin",
     "output_type": "stream",
     "text": [
      "Enter lot size for call option 2:  2\n"
     ]
    },
    {
     "name": "stdout",
     "output_type": "stream",
     "text": [
      "2\n"
     ]
    }
   ],
   "source": [
    "# Inputs for second call option (short)\n",
    "\n",
    "cp2 = int(input(\"Enter call option premium 2: \"))\n",
    "print(cp2)\n",
    "k2 = int(input(\"Enter strike price for call option 2: \"))\n",
    "print(k2) \n",
    "qt2 = int(input(\"Enter lot size for call option 2: \")) \n",
    "print(qt2)"
   ]
  },
  {
   "cell_type": "code",
   "execution_count": 75,
   "metadata": {},
   "outputs": [
    {
     "data": {
      "text/plain": [
       "array([ 14. ,  14. ,  14. ,  14. ,  14. ,  14. ,  14. ,  14. ,  14. ,\n",
       "        14. ,  14. ,  11.6,   9.2,   6.8,   4.4,   2. ,  -0.4,  -2.8,\n",
       "        -5.2,  -7.6, -10. ])"
      ]
     },
     "execution_count": 75,
     "metadata": {},
     "output_type": "execute_result"
    }
   ],
   "source": [
    "# Payoffs from second call option\n",
    "p2 = np.where(ST > k2,((k2-ST) + cp2) * qt2, cp2 * qt2) # Payoffs from call option 2\n",
    "p2"
   ]
  },
  {
   "cell_type": "code",
   "execution_count": 76,
   "metadata": {},
   "outputs": [
    {
     "name": "stdin",
     "output_type": "stream",
     "text": [
      "Enter call option premium 3:  5\n"
     ]
    },
    {
     "name": "stdout",
     "output_type": "stream",
     "text": [
      "5\n"
     ]
    },
    {
     "name": "stdin",
     "output_type": "stream",
     "text": [
      "Enter strike price for call option 3:  65\n"
     ]
    },
    {
     "name": "stdout",
     "output_type": "stream",
     "text": [
      "65\n"
     ]
    },
    {
     "name": "stdin",
     "output_type": "stream",
     "text": [
      "Enter lot size for call option 3:  1\n"
     ]
    },
    {
     "name": "stdout",
     "output_type": "stream",
     "text": [
      "1\n"
     ]
    }
   ],
   "source": [
    "# Inputs for third call option (long)\n",
    "\n",
    "cp3 = int(input(\"Enter call option premium 3: \"))\n",
    "print(cp3)\n",
    "k3 = int(input(\"Enter strike price for call option 3: \"))\n",
    "print(k3) \n",
    "qt3 = int(input(\"Enter lot size for call option 3: \")) \n",
    "print(qt3)"
   ]
  },
  {
   "cell_type": "code",
   "execution_count": 77,
   "metadata": {},
   "outputs": [
    {
     "data": {
      "text/plain": [
       "array([-5. , -5. , -5. , -5. , -5. , -5. , -5. , -5. , -5. , -5. , -5. ,\n",
       "       -5. , -5. , -5. , -5. , -4. , -2.8, -1.6, -0.4,  0.8,  2. ])"
      ]
     },
     "execution_count": 77,
     "metadata": {},
     "output_type": "execute_result"
    }
   ],
   "source": [
    "# Payoffs from third call option\n",
    "p3 = np.where(ST > k3,((ST-k3) - cp3) * qt3, -cp3 * qt3) # Payoffs from call option 2\n",
    "p3"
   ]
  },
  {
   "cell_type": "code",
   "execution_count": 78,
   "metadata": {},
   "outputs": [
    {
     "data": {
      "text/plain": [
       "array([-1. , -1. , -1. , -1. , -1. , -1. , -0.8,  0.4,  1.6,  2.8,  4. ,\n",
       "        2.8,  1.6,  0.4, -0.8, -1. , -1. , -1. , -1. , -1. , -1. ])"
      ]
     },
     "execution_count": 78,
     "metadata": {},
     "output_type": "execute_result"
    }
   ],
   "source": [
    "# Total Payoff\n",
    "p = p1 + p2 + p3\n",
    "p"
   ]
  },
  {
   "cell_type": "code",
   "execution_count": 79,
   "metadata": {},
   "outputs": [
    {
     "data": {
      "image/png": "[encoded data removed]",
      "text/plain": [
       "<Figure size 432x288 with 1 Axes>"
      ]
     },
     "metadata": {
      "needs_background": "light"
     },
     "output_type": "display_data"
    }
   ],
   "source": [
    "# Create a plot using matplotlib for Butterfly Strategy\n",
    "\n",
    "fig, ax = plt.subplots()\n",
    "ax.spines['top'].set_visible(False) # Top border removed \n",
    "ax.spines['right'].set_visible(False) # Right border removed\n",
    "ax.spines['bottom'].set_position('zero') # Sets the X-axis in the center\n",
    "ax.tick_params(top=True, right=True) # Removes the tick-marks on the RHS\n",
    "\n",
    "plt.plot(ST,p,lw=1.5)\n",
    "\n",
    "plt.title('Long Call Butterfly') \n",
    "plt.xlabel('Stock Prices')\n",
    "plt.ylabel('Profit/loss')\n",
    "\n",
    "plt.grid(True)\n",
    "#plt.axis('tight')\n",
    "plt.show()"
   ]
  },
  {
   "cell_type": "markdown",
   "metadata": {},
   "source": [
    "# Bull Call Spread\n",
    "\n",
    "The Bull Call Spread involves two calls with strike prices K1 and K2 where K1 < K2.\n",
    "\n",
    "* The investor goes long on the first call option with strike price K1.\n",
    "* The investor goes short on the second call option with strike price K2.\n",
    "* In this case, the premium for first call option will be higher than the second call option, hence resulting in a setup cost of c1 - c2.\n",
    "* This strategy is used when the investor is bullish on the market and expects the stock price to be between K1 and K2."
   ]
  },
  {
   "cell_type": "code",
   "execution_count": 80,
   "metadata": {},
   "outputs": [
    {
     "name": "stdin",
     "output_type": "stream",
     "text": [
      "Enter current stock price  100\n"
     ]
    },
    {
     "name": "stdout",
     "output_type": "stream",
     "text": [
      "100\n"
     ]
    }
   ],
   "source": [
    "# Input for underlying asset price\n",
    "\n",
    "s1 = int(input(\"Enter current stock price \")) \n",
    "print(s1) "
   ]
  },
  {
   "cell_type": "code",
   "execution_count": 81,
   "metadata": {},
   "outputs": [
    {
     "data": {
      "text/plain": [
       "array([ 80. ,  81.2,  82.4,  83.6,  84.8,  86. ,  87.2,  88.4,  89.6,\n",
       "        90.8,  92. ,  93.2,  94.4,  95.6,  96.8,  98. ,  99.2, 100.4,\n",
       "       101.6, 102.8, 104. , 105.2, 106.4, 107.6, 108.8, 110. , 111.2,\n",
       "       112.4, 113.6, 114.8, 116. , 117.2, 118.4, 119.6, 120.8])"
      ]
     },
     "execution_count": 81,
     "metadata": {},
     "output_type": "execute_result"
    }
   ],
   "source": [
    "# Creating an array of possible stock prices on maturity, considering a 20% volatality\n",
    "\n",
    "ST1 = np.arange(0.8*s1,1.21*s1,1.2)  \n",
    "ST1"
   ]
  },
  {
   "cell_type": "code",
   "execution_count": 82,
   "metadata": {},
   "outputs": [
    {
     "name": "stdin",
     "output_type": "stream",
     "text": [
      "Enter call option premium 1:  10\n"
     ]
    },
    {
     "name": "stdout",
     "output_type": "stream",
     "text": [
      "10\n"
     ]
    },
    {
     "name": "stdin",
     "output_type": "stream",
     "text": [
      "Enter strike price for call option 1:  100\n"
     ]
    },
    {
     "name": "stdout",
     "output_type": "stream",
     "text": [
      "100\n"
     ]
    },
    {
     "name": "stdin",
     "output_type": "stream",
     "text": [
      "Enter lot size for call option 1:  1\n"
     ]
    },
    {
     "name": "stdout",
     "output_type": "stream",
     "text": [
      "1\n"
     ]
    }
   ],
   "source": [
    "# Inputs for first call option (long)\n",
    "\n",
    "cp4 = int(input(\"Enter call option premium 1: \"))\n",
    "print(cp4)\n",
    "k4 = int(input(\"Enter strike price for call option 1: \"))\n",
    "print(k4) \n",
    "qt4 = int(input(\"Enter lot size for call option 1: \")) \n",
    "print(qt4)"
   ]
  },
  {
   "cell_type": "code",
   "execution_count": 83,
   "metadata": {},
   "outputs": [
    {
     "data": {
      "text/plain": [
       "array([-1.00000000e+01, -1.00000000e+01, -1.00000000e+01, -1.00000000e+01,\n",
       "       -1.00000000e+01, -1.00000000e+01, -1.00000000e+01, -1.00000000e+01,\n",
       "       -1.00000000e+01, -1.00000000e+01, -1.00000000e+01, -1.00000000e+01,\n",
       "       -1.00000000e+01, -1.00000000e+01, -1.00000000e+01, -1.00000000e+01,\n",
       "       -1.00000000e+01, -9.60000000e+00, -8.40000000e+00, -7.20000000e+00,\n",
       "       -6.00000000e+00, -4.80000000e+00, -3.60000000e+00, -2.40000000e+00,\n",
       "       -1.20000000e+00,  7.10542736e-14,  1.20000000e+00,  2.40000000e+00,\n",
       "        3.60000000e+00,  4.80000000e+00,  6.00000000e+00,  7.20000000e+00,\n",
       "        8.40000000e+00,  9.60000000e+00,  1.08000000e+01])"
      ]
     },
     "execution_count": 83,
     "metadata": {},
     "output_type": "execute_result"
    }
   ],
   "source": [
    "# Payoffs from first call option\n",
    "p4 = np.where(ST1 > k4,((ST1-k4) - cp4) * qt4, -cp4 * qt4) # Payoffs from call option 1\n",
    "p4"
   ]
  },
  {
   "cell_type": "code",
   "execution_count": 84,
   "metadata": {},
   "outputs": [
    {
     "name": "stdin",
     "output_type": "stream",
     "text": [
      "Enter call option premium 2:  7\n"
     ]
    },
    {
     "name": "stdout",
     "output_type": "stream",
     "text": [
      "7\n"
     ]
    },
    {
     "name": "stdin",
     "output_type": "stream",
     "text": [
      "Enter strike price for call option 2:  108\n"
     ]
    },
    {
     "name": "stdout",
     "output_type": "stream",
     "text": [
      "108\n"
     ]
    },
    {
     "name": "stdin",
     "output_type": "stream",
     "text": [
      "Enter lot size for call option 2:  1\n"
     ]
    },
    {
     "name": "stdout",
     "output_type": "stream",
     "text": [
      "1\n"
     ]
    }
   ],
   "source": [
    "# Inputs for second call option (short)\n",
    "\n",
    "cp5 = int(input(\"Enter call option premium 2: \"))\n",
    "print(cp5)\n",
    "k5 = int(input(\"Enter strike price for call option 2: \"))\n",
    "print(k5) \n",
    "qt5 = int(input(\"Enter lot size for call option 2: \")) \n",
    "print(qt5)"
   ]
  },
  {
   "cell_type": "code",
   "execution_count": 85,
   "metadata": {},
   "outputs": [
    {
     "data": {
      "text/plain": [
       "array([ 7. ,  7. ,  7. ,  7. ,  7. ,  7. ,  7. ,  7. ,  7. ,  7. ,  7. ,\n",
       "        7. ,  7. ,  7. ,  7. ,  7. ,  7. ,  7. ,  7. ,  7. ,  7. ,  7. ,\n",
       "        7. ,  7. ,  6.2,  5. ,  3.8,  2.6,  1.4,  0.2, -1. , -2.2, -3.4,\n",
       "       -4.6, -5.8])"
      ]
     },
     "execution_count": 85,
     "metadata": {},
     "output_type": "execute_result"
    }
   ],
   "source": [
    "# Payoffs from second call option\n",
    "p5 = np.where(ST1 > k5,((k5-ST1) + cp5) * qt5, cp5 * qt5) # Payoffs from call option 2\n",
    "p5"
   ]
  },
  {
   "cell_type": "code",
   "execution_count": 86,
   "metadata": {},
   "outputs": [
    {
     "data": {
      "text/plain": [
       "array([-3. , -3. , -3. , -3. , -3. , -3. , -3. , -3. , -3. , -3. , -3. ,\n",
       "       -3. , -3. , -3. , -3. , -3. , -3. , -2.6, -1.4, -0.2,  1. ,  2.2,\n",
       "        3.4,  4.6,  5. ,  5. ,  5. ,  5. ,  5. ,  5. ,  5. ,  5. ,  5. ,\n",
       "        5. ,  5. ])"
      ]
     },
     "execution_count": 86,
     "metadata": {},
     "output_type": "execute_result"
    }
   ],
   "source": [
    "pbull = p4+p5\n",
    "pbull"
   ]
  },
  {
   "cell_type": "code",
   "execution_count": 87,
   "metadata": {},
   "outputs": [
    {
     "data": {
      "image/png": "[encoded data removed]",
      "text/plain": [
       "<Figure size 432x288 with 1 Axes>"
      ]
     },
     "metadata": {
      "needs_background": "light"
     },
     "output_type": "display_data"
    }
   ],
   "source": [
    "# Create a plot using matplotlib for Bull Call Strategy\n",
    "\n",
    "fig, ax = plt.subplots()\n",
    "ax.spines['top'].set_visible(False) # Top border removed \n",
    "ax.spines['right'].set_visible(False) # Right border removed\n",
    "ax.spines['bottom'].set_position('zero') # Sets the X-axis in the center\n",
    "ax.tick_params(top=True, right=True) # Removes the tick-marks on the RHS\n",
    "\n",
    "plt.plot(ST1,pbull,lw=1.5,color='green')\n",
    "\n",
    "plt.title('Bull Call Spread') \n",
    "plt.xlabel('Stock Prices')\n",
    "plt.ylabel('Profit/loss')\n",
    "\n",
    "plt.grid(False)\n",
    "#plt.axis('tight')\n",
    "plt.show()"
   ]
  },
  {
   "cell_type": "markdown",
   "metadata": {},
   "source": [
    "# Bear Put Spread\n",
    "\n",
    "The Bear Put Spread involves two put options with strike prices K1 and K2 such that K1 < K2.\n",
    "\n",
    "* The investor goes short on first put option with a strike price of K1.\n",
    "* The investor goes long on second put option with a strike price of K2.\n",
    "* In this case, the premium for the first put option will be lower than the second put option. Hence, the setup cost for the strategy will be p2-p1.\n",
    "* This strategy is used when the investor is bearish on the market and expects the price to fall between K1 and K2."
   ]
  },
  {
   "cell_type": "code",
   "execution_count": 88,
   "metadata": {},
   "outputs": [],
   "source": [
    "# (We will use the same initial stock price and array of STs in order to combine the bull call spread and bear put spread later to form the box spread.)"
   ]
  },
  {
   "cell_type": "code",
   "execution_count": 89,
   "metadata": {},
   "outputs": [
    {
     "name": "stdin",
     "output_type": "stream",
     "text": [
      "Enter put option premium 1:  7\n"
     ]
    },
    {
     "name": "stdout",
     "output_type": "stream",
     "text": [
      "7\n"
     ]
    },
    {
     "name": "stdin",
     "output_type": "stream",
     "text": [
      "Enter strike price for put option 1:  100\n"
     ]
    },
    {
     "name": "stdout",
     "output_type": "stream",
     "text": [
      "100\n"
     ]
    },
    {
     "name": "stdin",
     "output_type": "stream",
     "text": [
      "Enter lot size for put option 1:  1\n"
     ]
    },
    {
     "name": "stdout",
     "output_type": "stream",
     "text": [
      "1\n"
     ]
    }
   ],
   "source": [
    "# Inputs for first put option (short)\n",
    "\n",
    "pp1 = int(input(\"Enter put option premium 1: \"))\n",
    "print(pp1)\n",
    "kp1 = int(input(\"Enter strike price for put option 1: \"))\n",
    "print(kp1) \n",
    "qp1 = int(input(\"Enter lot size for put option 1: \")) \n",
    "print(qp1)"
   ]
  },
  {
   "cell_type": "code",
   "execution_count": 90,
   "metadata": {},
   "outputs": [
    {
     "data": {
      "text/plain": [
       "array([-13. , -11.8, -10.6,  -9.4,  -8.2,  -7. ,  -5.8,  -4.6,  -3.4,\n",
       "        -2.2,  -1. ,   0.2,   1.4,   2.6,   3.8,   5. ,   6.2,   7. ,\n",
       "         7. ,   7. ,   7. ,   7. ,   7. ,   7. ,   7. ,   7. ,   7. ,\n",
       "         7. ,   7. ,   7. ,   7. ,   7. ,   7. ,   7. ,   7. ])"
      ]
     },
     "execution_count": 90,
     "metadata": {},
     "output_type": "execute_result"
    }
   ],
   "source": [
    "# Payoffs from first put option (short)\n",
    "p6 = np.where(ST1 < kp1,((ST1-kp1) + pp1) * qp1, pp1 * qt5) # Payoffs from put option 1\n",
    "p6"
   ]
  },
  {
   "cell_type": "code",
   "execution_count": 91,
   "metadata": {},
   "outputs": [
    {
     "name": "stdin",
     "output_type": "stream",
     "text": [
      "Enter put option premium 2:  10\n"
     ]
    },
    {
     "name": "stdout",
     "output_type": "stream",
     "text": [
      "10\n"
     ]
    },
    {
     "name": "stdin",
     "output_type": "stream",
     "text": [
      "Enter strike price for put option 2:  108\n"
     ]
    },
    {
     "name": "stdout",
     "output_type": "stream",
     "text": [
      "108\n"
     ]
    },
    {
     "name": "stdin",
     "output_type": "stream",
     "text": [
      "Enter lot size for put option 2:  1\n"
     ]
    },
    {
     "name": "stdout",
     "output_type": "stream",
     "text": [
      "1\n"
     ]
    }
   ],
   "source": [
    "# Inputs for second put option (long)\n",
    "\n",
    "pp2 = int(input(\"Enter put option premium 2: \"))\n",
    "print(pp2)\n",
    "kp2 = int(input(\"Enter strike price for put option 2: \"))\n",
    "print(kp2) \n",
    "qp2 = int(input(\"Enter lot size for put option 2: \")) \n",
    "print(qp2)"
   ]
  },
  {
   "cell_type": "code",
   "execution_count": 92,
   "metadata": {},
   "outputs": [
    {
     "data": {
      "text/plain": [
       "array([ 1.80000000e+01,  1.68000000e+01,  1.56000000e+01,  1.44000000e+01,\n",
       "        1.32000000e+01,  1.20000000e+01,  1.08000000e+01,  9.60000000e+00,\n",
       "        8.40000000e+00,  7.20000000e+00,  6.00000000e+00,  4.80000000e+00,\n",
       "        3.60000000e+00,  2.40000000e+00,  1.20000000e+00, -4.26325641e-14,\n",
       "       -1.20000000e+00, -2.40000000e+00, -3.60000000e+00, -4.80000000e+00,\n",
       "       -6.00000000e+00, -7.20000000e+00, -8.40000000e+00, -9.60000000e+00,\n",
       "       -1.00000000e+01, -1.00000000e+01, -1.00000000e+01, -1.00000000e+01,\n",
       "       -1.00000000e+01, -1.00000000e+01, -1.00000000e+01, -1.00000000e+01,\n",
       "       -1.00000000e+01, -1.00000000e+01, -1.00000000e+01])"
      ]
     },
     "execution_count": 92,
     "metadata": {},
     "output_type": "execute_result"
    }
   ],
   "source": [
    "# Payoffs from second put option (long)\n",
    "p7 = np.where(ST1 < kp2,((kp2 - ST1) - pp2) * qp2, -pp2 * qp2) # Payoffs from put option 2\n",
    "p7"
   ]
  },
  {
   "cell_type": "code",
   "execution_count": 94,
   "metadata": {},
   "outputs": [
    {
     "data": {
      "text/plain": [
       "array([ 5. ,  5. ,  5. ,  5. ,  5. ,  5. ,  5. ,  5. ,  5. ,  5. ,  5. ,\n",
       "        5. ,  5. ,  5. ,  5. ,  5. ,  5. ,  4.6,  3.4,  2.2,  1. , -0.2,\n",
       "       -1.4, -2.6, -3. , -3. , -3. , -3. , -3. , -3. , -3. , -3. , -3. ,\n",
       "       -3. , -3. ])"
      ]
     },
     "execution_count": 94,
     "metadata": {},
     "output_type": "execute_result"
    }
   ],
   "source": [
    "# Total Payoffs from Bear Put Strategy\n",
    "pbear = p6 + p7\n",
    "pbear"
   ]
  },
  {
   "cell_type": "code",
   "execution_count": 95,
   "metadata": {},
   "outputs": [
    {
     "data": {
      "image/png": "[encoded data removed]",
      "text/plain": [
       "<Figure size 432x288 with 1 Axes>"
      ]
     },
     "metadata": {
      "needs_background": "light"
     },
     "output_type": "display_data"
    }
   ],
   "source": [
    "# Create a plot using matplotlib for Bear Put Strategy\n",
    "\n",
    "fig, ax = plt.subplots()\n",
    "ax.spines['top'].set_visible(False) # Top border removed \n",
    "ax.spines['right'].set_visible(False) # Right border removed\n",
    "ax.spines['bottom'].set_position('zero') # Sets the X-axis in the center\n",
    "ax.tick_params(top=True, right=True) # Removes the tick-marks on the RHS\n",
    "\n",
    "plt.plot(ST1,pbear,lw=1.5)\n",
    "\n",
    "plt.title('Bear Put Spread') \n",
    "plt.xlabel('Stock Prices')\n",
    "plt.ylabel('Profit/loss')\n",
    "\n",
    "plt.grid(False)\n",
    "#plt.axis('tight')\n",
    "plt.show()"
   ]
  },
  {
   "cell_type": "markdown",
   "metadata": {},
   "source": [
    "# Box Spread \n",
    "\n",
    "The Box Spread strategy combinies a bull call spread and a bear put spread with strike prices K1 and K2 such that K1 < K2.\n",
    "\n",
    "* A box spread is worth the present value of the difference between strike prices. • At the strike price K1, we have a long call option and a short put option.\n",
    "* At the strike price K2, we have a short call option and a long put option.\n",
    "* At ST < K1, all puts get exercised.\n",
    "* At ST > K2, all calls get exercised.\n",
    "* Thus, when calls get exercised, puts don’t and vice versa.\n",
    "* In between the strike prices, the long call and long put get exercised. • The final payoff is a line parallel to the x axis."
   ]
  },
  {
   "cell_type": "code",
   "execution_count": 96,
   "metadata": {},
   "outputs": [
    {
     "data": {
      "text/plain": [
       "array([2., 2., 2., 2., 2., 2., 2., 2., 2., 2., 2., 2., 2., 2., 2., 2., 2.,\n",
       "       2., 2., 2., 2., 2., 2., 2., 2., 2., 2., 2., 2., 2., 2., 2., 2., 2.,\n",
       "       2.])"
      ]
     },
     "execution_count": 96,
     "metadata": {},
     "output_type": "execute_result"
    }
   ],
   "source": [
    " # Combining a bull call spread and a bear put spread\n",
    "pbox = pbull + pbear\n",
    "pbox"
   ]
  },
  {
   "cell_type": "code",
   "execution_count": 97,
   "metadata": {},
   "outputs": [
    {
     "data": {
      "image/png": "[encoded data removed]",
      "text/plain": [
       "<Figure size 432x288 with 1 Axes>"
      ]
     },
     "metadata": {
      "needs_background": "light"
     },
     "output_type": "display_data"
    }
   ],
   "source": [
    "# Create a plot using matplotlib for Box Strategy\n",
    "\n",
    "fig, ax = plt.subplots()\n",
    "ax.spines['top'].set_visible(False) # Top border removed \n",
    "ax.spines['right'].set_visible(False) # Right border removed\n",
    "ax.spines['bottom'].set_position('zero') # Sets the X-axis in the center\n",
    "ax.tick_params(top=True, right=True) # Removes the tick-marks on the RHS\n",
    "\n",
    "plt.plot(ST1,pbear, lw=1.5)\n",
    "plt.plot(ST1,pbull, lw=1.5, color = \"green\")\n",
    "plt.plot(ST1,pbox, lw=1.5)\n",
    "\n",
    "plt.title('Box Spread') \n",
    "plt.xlabel('Stock Prices')\n",
    "plt.ylabel('Profit/loss')\n",
    "\n",
    "plt.legend([\"Bear Put Spread\", \"Bull Call Spread\", \"Box Spread\"], loc =\"lower right\") \n",
    "plt.grid(False)\n",
    "#plt.axis('tight')\n",
    "plt.show()"
   ]
  },
  {
   "cell_type": "markdown",
   "metadata": {},
   "source": [
    "# Long Strangle\n",
    "\n",
    "A long strangle combines a long call and long put option at different strike prices K1 and K2 such that K1 < K2.\n",
    "\n",
    "* The investor goes long on a put option at strike price K1.\n",
    "* The investor goes long on a call option at strike price K2.\n",
    "* The investor expects the price to be outside the range of K1 and K2.\n",
    "* The setup cost for the strategy is c1 + p1."
   ]
  },
  {
   "cell_type": "code",
   "execution_count": 98,
   "metadata": {},
   "outputs": [
    {
     "name": "stdin",
     "output_type": "stream",
     "text": [
      "Enter current stock price  100\n"
     ]
    },
    {
     "name": "stdout",
     "output_type": "stream",
     "text": [
      "100\n"
     ]
    }
   ],
   "source": [
    "# Input for underlying asset price\n",
    "\n",
    "st2 = int(input(\"Enter current stock price \")) \n",
    "print(st2) "
   ]
  },
  {
   "cell_type": "code",
   "execution_count": 99,
   "metadata": {},
   "outputs": [
    {
     "data": {
      "text/plain": [
       "array([ 60.,  65.,  70.,  75.,  80.,  85.,  90.,  95., 100., 105., 110.,\n",
       "       115., 120., 125., 130., 135., 140.])"
      ]
     },
     "execution_count": 99,
     "metadata": {},
     "output_type": "execute_result"
    }
   ],
   "source": [
    "# Creating an array of possible stock prices on maturity, considering a 20% volatality\n",
    "\n",
    "ST2 = np.arange(0.6*st2,1.41*st2,5)  \n",
    "ST2"
   ]
  },
  {
   "cell_type": "code",
   "execution_count": 100,
   "metadata": {},
   "outputs": [
    {
     "name": "stdin",
     "output_type": "stream",
     "text": [
      "Enter call option premium 1:  8\n"
     ]
    },
    {
     "name": "stdout",
     "output_type": "stream",
     "text": [
      "8\n"
     ]
    },
    {
     "name": "stdin",
     "output_type": "stream",
     "text": [
      "Enter strike price for call option 1:  110\n"
     ]
    },
    {
     "name": "stdout",
     "output_type": "stream",
     "text": [
      "110\n"
     ]
    },
    {
     "name": "stdin",
     "output_type": "stream",
     "text": [
      "Enter lot size for call option 1:  1\n"
     ]
    },
    {
     "name": "stdout",
     "output_type": "stream",
     "text": [
      "1\n"
     ]
    }
   ],
   "source": [
    "# Inputs for call option (long)\n",
    "\n",
    "cp5 = int(input(\"Enter call option premium 1: \"))\n",
    "print(cp5)\n",
    "kc = int(input(\"Enter strike price for call option 1: \"))\n",
    "print(kc) \n",
    "qts1 = int(input(\"Enter lot size for call option 1: \")) \n",
    "print(qts1)"
   ]
  },
  {
   "cell_type": "code",
   "execution_count": 101,
   "metadata": {},
   "outputs": [
    {
     "data": {
      "text/plain": [
       "array([-8., -8., -8., -8., -8., -8., -8., -8., -8., -8., -8., -3.,  2.,\n",
       "        7., 12., 17., 22.])"
      ]
     },
     "execution_count": 101,
     "metadata": {},
     "output_type": "execute_result"
    }
   ],
   "source": [
    "# Payoffs from first call option\n",
    "pc = np.where(ST2 > kc,((ST2-kc) - cp5) * qts1, -cp5 * qts1) # Payoffs from call option 1\n",
    "pc"
   ]
  },
  {
   "cell_type": "code",
   "execution_count": 102,
   "metadata": {},
   "outputs": [
    {
     "name": "stdin",
     "output_type": "stream",
     "text": [
      "Enter put option premium 2:  6\n"
     ]
    },
    {
     "name": "stdout",
     "output_type": "stream",
     "text": [
      "6\n"
     ]
    },
    {
     "name": "stdin",
     "output_type": "stream",
     "text": [
      "Enter strike price for put option 2:  90\n"
     ]
    },
    {
     "name": "stdout",
     "output_type": "stream",
     "text": [
      "90\n"
     ]
    },
    {
     "name": "stdin",
     "output_type": "stream",
     "text": [
      "Enter lot size for put option 2:  1\n"
     ]
    },
    {
     "name": "stdout",
     "output_type": "stream",
     "text": [
      "1\n"
     ]
    }
   ],
   "source": [
    "# Inputs for put option (long)\n",
    "\n",
    "pp4 = int(input(\"Enter put option premium 2: \"))\n",
    "print(pp4)\n",
    "kp4 = int(input(\"Enter strike price for put option 2: \"))\n",
    "print(kp4) \n",
    "qp4 = int(input(\"Enter lot size for put option 2: \")) \n",
    "print(qp4)"
   ]
  },
  {
   "cell_type": "code",
   "execution_count": 103,
   "metadata": {},
   "outputs": [
    {
     "data": {
      "text/plain": [
       "array([24., 19., 14.,  9.,  4., -1., -6., -6., -6., -6., -6., -6., -6.,\n",
       "       -6., -6., -6., -6.])"
      ]
     },
     "execution_count": 103,
     "metadata": {},
     "output_type": "execute_result"
    }
   ],
   "source": [
    "# Payoffs from second put option (long)\n",
    "p8 = np.where(ST2 < kp4,((kp4 - ST2) - pp4) * qp4, -pp4 * qp4) # Payoffs from put option 2\n",
    "p8"
   ]
  },
  {
   "cell_type": "code",
   "execution_count": 104,
   "metadata": {},
   "outputs": [
    {
     "data": {
      "text/plain": [
       "array([ 16.,  11.,   6.,   1.,  -4.,  -9., -14., -14., -14., -14., -14.,\n",
       "        -9.,  -4.,   1.,   6.,  11.,  16.])"
      ]
     },
     "execution_count": 104,
     "metadata": {},
     "output_type": "execute_result"
    }
   ],
   "source": [
    "# Total Payoffs for Long Strangle\n",
    "\n",
    "strangle = pc + p8\n",
    "strangle"
   ]
  },
  {
   "cell_type": "code",
   "execution_count": 105,
   "metadata": {},
   "outputs": [
    {
     "data": {
      "image/png": "[encoded data removed]",
      "text/plain": [
       "<Figure size 432x288 with 1 Axes>"
      ]
     },
     "metadata": {
      "needs_background": "light"
     },
     "output_type": "display_data"
    }
   ],
   "source": [
    "# Create a plot using matplotlib for Long Strangle Strategy\n",
    "\n",
    "fig, ax = plt.subplots()\n",
    "ax.spines['top'].set_visible(False) # Top border removed \n",
    "ax.spines['right'].set_visible(False) # Right border removed\n",
    "ax.spines['bottom'].set_position('zero') # Sets the X-axis in the center\n",
    "ax.tick_params(top=True, right=True) # Removes the tick-marks on the RHS\n",
    "\n",
    "plt.plot(ST2,strangle,lw=1.5)\n",
    "\n",
    "plt.title('Long Strangle') \n",
    "plt.xlabel('Stock Prices')\n",
    "plt.ylabel('Profit/loss')\n",
    "\n",
    "plt.grid(False)\n",
    "#plt.axis('tight')\n",
    "plt.show()"
   ]
  },
  {
   "cell_type": "markdown",
   "metadata": {},
   "source": [
    "# Short Strangle\n",
    "\n",
    "A short strangle combines a short call and short put option at different strike prices K1 and K2 such that K1 < K2.\n",
    "\n",
    "* The investor goes short on a put option at strike price K1.\n",
    "* The investor goes short on a call option at strike price K2.\n",
    "* The investor expects the price to be exactly in the range of K1 and K2.\n",
    "* The investor earns money on setting up this strategy. (c1 + p1 = premium earned)\n",
    "* It is a highly risky strategy and used only when the investor is extremely certain about the range of stock price. If the strategy fails, \n",
    "the investor will earn infinite losses."
   ]
  },
  {
   "cell_type": "code",
   "execution_count": 106,
   "metadata": {},
   "outputs": [
    {
     "name": "stdin",
     "output_type": "stream",
     "text": [
      "Enter call option premium:  8\n"
     ]
    },
    {
     "name": "stdout",
     "output_type": "stream",
     "text": [
      "8\n"
     ]
    },
    {
     "name": "stdin",
     "output_type": "stream",
     "text": [
      "Enter strike price for call option:  110\n"
     ]
    },
    {
     "name": "stdout",
     "output_type": "stream",
     "text": [
      "110\n"
     ]
    },
    {
     "name": "stdin",
     "output_type": "stream",
     "text": [
      "Enter lot size for call option:  1\n"
     ]
    },
    {
     "name": "stdout",
     "output_type": "stream",
     "text": [
      "1\n"
     ]
    }
   ],
   "source": [
    "# Inputs for call option (short)\n",
    "\n",
    "cp7 = int(input(\"Enter call option premium: \"))\n",
    "print(cp7)\n",
    "k9 = int(input(\"Enter strike price for call option: \"))\n",
    "print(k9) \n",
    "qt9 = int(input(\"Enter lot size for call option: \")) \n",
    "print(qt9)"
   ]
  },
  {
   "cell_type": "code",
   "execution_count": 107,
   "metadata": {},
   "outputs": [
    {
     "data": {
      "text/plain": [
       "array([  8.,   8.,   8.,   8.,   8.,   8.,   8.,   8.,   8.,   8.,   8.,\n",
       "         3.,  -2.,  -7., -12., -17., -22.])"
      ]
     },
     "execution_count": 107,
     "metadata": {},
     "output_type": "execute_result"
    }
   ],
   "source": [
    "# Payoffs from call option\n",
    "p9 = np.where(ST2 > k9,((k9-ST2) + cp7) * qt9, cp7 * qt9) # Payoffs from call option 2\n",
    "p9"
   ]
  },
  {
   "cell_type": "code",
   "execution_count": 108,
   "metadata": {},
   "outputs": [
    {
     "name": "stdin",
     "output_type": "stream",
     "text": [
      "Enter put option premium 1:  6\n"
     ]
    },
    {
     "name": "stdout",
     "output_type": "stream",
     "text": [
      "6\n"
     ]
    },
    {
     "name": "stdin",
     "output_type": "stream",
     "text": [
      "Enter strike price for put option 1:  90\n"
     ]
    },
    {
     "name": "stdout",
     "output_type": "stream",
     "text": [
      "90\n"
     ]
    },
    {
     "name": "stdin",
     "output_type": "stream",
     "text": [
      "Enter lot size for put option 1:  1\n"
     ]
    },
    {
     "name": "stdout",
     "output_type": "stream",
     "text": [
      "1\n"
     ]
    }
   ],
   "source": [
    "# Inputs for put option (short)\n",
    "\n",
    "pp4 = int(input(\"Enter put option premium 1: \"))\n",
    "print(pp4)\n",
    "kp6 = int(input(\"Enter strike price for put option 1: \"))\n",
    "print(kp6) \n",
    "qp5 = int(input(\"Enter lot size for put option 1: \")) \n",
    "print(qp5)"
   ]
  },
  {
   "cell_type": "code",
   "execution_count": 109,
   "metadata": {},
   "outputs": [
    {
     "data": {
      "text/plain": [
       "array([-24., -19., -14.,  -9.,  -4.,   1.,   6.,   6.,   6.,   6.,   6.,\n",
       "         6.,   6.,   6.,   6.,   6.,   6.])"
      ]
     },
     "execution_count": 109,
     "metadata": {},
     "output_type": "execute_result"
    }
   ],
   "source": [
    "# Payoffs from put option (short)\n",
    "p10 = np.where(ST2 < kp6,((ST2-kp6) + pp4) * qp5, pp4 * qp5) # Payoffs from put option 1\n",
    "p10"
   ]
  },
  {
   "cell_type": "code",
   "execution_count": 110,
   "metadata": {},
   "outputs": [
    {
     "data": {
      "text/plain": [
       "array([-16., -11.,  -6.,  -1.,   4.,   9.,  14.,  14.,  14.,  14.,  14.,\n",
       "         9.,   4.,  -1.,  -6., -11., -16.])"
      ]
     },
     "execution_count": 110,
     "metadata": {},
     "output_type": "execute_result"
    }
   ],
   "source": [
    "# Total Payoffs from the strategy\n",
    "selstr = p10+p9\n",
    "selstr"
   ]
  },
  {
   "cell_type": "code",
   "execution_count": 111,
   "metadata": {},
   "outputs": [
    {
     "data": {
      "image/png": "[encoded data removed]",
      "text/plain": [
       "<Figure size 432x288 with 1 Axes>"
      ]
     },
     "metadata": {
      "needs_background": "light"
     },
     "output_type": "display_data"
    }
   ],
   "source": [
    "# Create a plot using matplotlib for Short Strangle Strategy\n",
    "\n",
    "fig, ax = plt.subplots()\n",
    "ax.spines['top'].set_visible(False) # Top border removed \n",
    "ax.spines['right'].set_visible(False) # Right border removed\n",
    "ax.spines['bottom'].set_position('zero') # Sets the X-axis in the center\n",
    "ax.tick_params(top=True, right=True) # Removes the tick-marks on the RHS\n",
    "\n",
    "plt.plot(ST2,selstr,lw=1.5)\n",
    "\n",
    "plt.title('Short Strangle') \n",
    "plt.xlabel('Stock Prices')\n",
    "plt.ylabel('Profit/loss')\n",
    "\n",
    "plt.grid(False)\n",
    "#plt.axis('tight')\n",
    "plt.show()"
   ]
  }
 ],
 "metadata": {
  "kernelspec": {
   "display_name": "Python 3",
   "language": "python",
   "name": "python3"
  },
  "language_info": {
   "codemirror_mode": {
    "name": "ipython",
    "version": 3
   },
   "file_extension": ".py",
   "mimetype": "text/x-python",
   "name": "python",
   "nbconvert_exporter": "python",
   "pygments_lexer": "ipython3",
   "version": "3.7.4"
  }
 },
 "nbformat": 4,
 "nbformat_minor": 4
}
